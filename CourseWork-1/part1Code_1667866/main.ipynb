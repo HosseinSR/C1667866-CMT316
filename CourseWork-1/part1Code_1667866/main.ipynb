{
 "cells": [
  {
   "cell_type": "markdown",
   "metadata": {},
   "source": [
    "#imports"
   ]
  },
  {
   "cell_type": "code",
   "execution_count": 1,
   "metadata": {},
   "outputs": [],
   "source": [
    "from pathlib import Path\n",
    "from urllib.parse import urlparse;\n",
    "import csv as csv\n",
    "import sklearn\n",
    "from sklearn import naive_bayes, svm\n",
    "from sklearn.linear_model import LinearRegression, LogisticRegression\n",
    "from sklearn.pipeline import Pipeline\n",
    "from sklearn.kernel_ridge import KernelRidge\n",
    "from sklearn.metrics import mean_squared_error, classification_report, accuracy_score\n",
    "import pandas as pd\n",
    "import os\n",
    "from sklearn.model_selection import cross_validate\n",
    "import numpy as np\n"
   ]
  },
  {
   "cell_type": "markdown",
   "metadata": {},
   "source": [
    "#init vars"
   ]
  },
  {
   "cell_type": "code",
   "execution_count": 2,
   "metadata": {},
   "outputs": [],
   "source": [
    "cwd = os.getcwd()\n",
    "trainingDataframe = pd.read_csv(cwd + \"/train_full_Real-estate.csv\")\n",
    "trainingDataframe = trainingDataframe.drop(columns= ['No','X1 transaction date'])\n",
    "\n",
    "testDataframe = pd.read_csv(cwd + \"/test_full_Real-estate.csv\")\n",
    "testDataframe = testDataframe.drop(columns= ['No','X1 transaction date'])\n",
    "\n"
   ]
  },
  {
   "cell_type": "markdown",
   "metadata": {},
   "source": [
    "#regression "
   ]
  },
  {
   "cell_type": "code",
   "execution_count": 3,
   "metadata": {},
   "outputs": [],
   "source": [
    "regXTrain, regYTrain = trainingDataframe.iloc[:, :-1], trainingDataframe.iloc[:, -1]\n",
    "regXTest, regYTest = testDataframe.iloc[:, :-1], testDataframe.iloc[:, -1]"
   ]
  },
  {
   "cell_type": "code",
   "execution_count": 4,
   "metadata": {},
   "outputs": [
    {
     "name": "stdout",
     "output_type": "stream",
     "text": [
      "Root Mean Squared Error for linear regression classifier :  8.492836851795275\n"
     ]
    }
   ],
   "source": [
    "SVCPipe = Pipeline([(\"model\" ,svm.SVR(kernel= 'rbf', gamma='scale'))])\n",
    "SVCPipe.fit(regXTrain, regYTrain)\n",
    "SVCRootMeanError = np.sqrt(mean_squared_error(regYTest,SVCPipe.predict(regXTest)))\n",
    "print(\"Root Mean Squared Error for SVR classifier : \",SVCRootMeanError)"
   ]
  },
  {
   "cell_type": "code",
   "execution_count": 5,
   "metadata": {},
   "outputs": [
    {
     "name": "stdout",
     "output_type": "stream",
     "text": [
      "Root Mean Squared Error for linear regression classifier :  8.650852491058567\n"
     ]
    }
   ],
   "source": [
    "LRpipe = Pipeline([(\"model\" ,LinearRegression())])\n",
    "LRpipe.fit(regXTrain, regYTrain)\n",
    "lrRootMeanError = np.sqrt(mean_squared_error(regYTest,LRpipe.predict(regXTest)))\n",
    "print(\"Root Mean Squared Error for linear regression classifier : \",lrRootMeanError)"
   ]
  },
  {
   "cell_type": "code",
   "execution_count": 6,
   "metadata": {},
   "outputs": [
    {
     "name": "stdout",
     "output_type": "stream",
     "text": [
      "Root Mean Squared Error for linear regression classifier :  8.960053669588865\n"
     ]
    }
   ],
   "source": [
    "KernelRidgepipe = Pipeline([(\"model\" ,KernelRidge())])\n",
    "KernelRidgepipe.fit(regXTrain, regYTrain)\n",
    "KernelRidgeRootMeanError = np.sqrt(mean_squared_error(regYTest,KernelRidgepipe.predict(regXTest)))\n",
    "print(\"Root Mean Squared Error for KernelRidge classifier : \",KernelRidgeRootMeanError)"
   ]
  },
  {
   "cell_type": "markdown",
   "metadata": {},
   "source": [
    "#classification"
   ]
  },
  {
   "cell_type": "code",
   "execution_count": 7,
   "metadata": {},
   "outputs": [],
   "source": [
    "cTrainingDataframe, cTestDataframe = trainingDataframe, testDataframe\n",
    "\n",
    "cTrainingDataframe['relativeExpensive'] = cTrainingDataframe['Y house price of unit area'].apply(lambda x: 1 if x >= 30 else 0)\n",
    "cTestDataframe['relativeExpensive'] = cTestDataframe['Y house price of unit area'].apply(lambda x: 1 if x >= 30 else 0)\n",
    "\n",
    "cXTrain, cYTrain = cTrainingDataframe.iloc[:, :-1], cTrainingDataframe.iloc[:, -1]\n",
    "cXTrain = cXTrain.drop(columns= ['Y house price of unit area'])\n",
    "cXTest, cYTest = cTestDataframe.iloc[:, :-1], cTestDataframe.iloc[:, -1]\n",
    "cXTest = cXTest.drop(columns= ['Y house price of unit area'])"
   ]
  },
  {
   "cell_type": "code",
   "execution_count": 8,
   "metadata": {},
   "outputs": [
    {
     "name": "stdout",
     "output_type": "stream",
     "text": [
      "accuracy:  0.8849557522123894\n",
      "              precision    recall  f1-score   support\n",
      "\n",
      "           0       0.88      0.76      0.81        37\n",
      "           1       0.89      0.95      0.92        76\n",
      "\n",
      "    accuracy                           0.88       113\n",
      "   macro avg       0.88      0.85      0.86       113\n",
      "weighted avg       0.88      0.88      0.88       113\n",
      "\n"
     ]
    }
   ],
   "source": [
    "nvPipe = Pipeline([(\"model\" ,naive_bayes.GaussianNB())])\n",
    "nvPipe.fit(cXTrain,cYTrain)\n",
    "predict = nvPipe.predict(cXTest)\n",
    "print(\"accuracy: \",accuracy_score(predict,cYTest))\n",
    "print(classification_report(predict,cYTest))"
   ]
  },
  {
   "cell_type": "code",
   "execution_count": 9,
   "metadata": {},
   "outputs": [
    {
     "name": "stdout",
     "output_type": "stream",
     "text": [
      "accuracy:  0.8672566371681416\n",
      "              precision    recall  f1-score   support\n",
      "\n",
      "           0       0.81      0.74      0.78        35\n",
      "           1       0.89      0.92      0.91        78\n",
      "\n",
      "    accuracy                           0.87       113\n",
      "   macro avg       0.85      0.83      0.84       113\n",
      "weighted avg       0.87      0.87      0.87       113\n",
      "\n"
     ]
    }
   ],
   "source": [
    "LrClaPipe = Pipeline([(\"model\" ,LogisticRegression())])\n",
    "LrClaPipe.fit(cXTrain,cYTrain )\n",
    "predict = LrClaPipe.predict(cXTest)\n",
    "print(\"accuracy: \",accuracy_score(predict,cYTest))\n",
    "print(classification_report(predict,cYTest))"
   ]
  },
  {
   "cell_type": "code",
   "execution_count": 10,
   "metadata": {},
   "outputs": [
    {
     "name": "stdout",
     "output_type": "stream",
     "text": [
      "accuracy:  0.8495575221238938\n",
      "              precision    recall  f1-score   support\n",
      "\n",
      "           0       0.53      0.89      0.67        19\n",
      "           1       0.98      0.84      0.90        94\n",
      "\n",
      "    accuracy                           0.85       113\n",
      "   macro avg       0.75      0.87      0.78       113\n",
      "weighted avg       0.90      0.85      0.86       113\n",
      "\n"
     ]
    }
   ],
   "source": [
    "SVMPipe = Pipeline([(\"model\" ,svm.SVC(gamma='auto', kernel='rbf'))])\n",
    "SVMPipe.fit(cXTrain,cYTrain )\n",
    "predict = SVMPipe.predict(cXTest)\n",
    "print(\"accuracy: \",accuracy_score(predict,cYTest))\n",
    "print(classification_report(predict,cYTest))"
   ]
  },
  {
   "cell_type": "markdown",
   "metadata": {},
   "source": [
    "#"
   ]
  }
 ],
 "metadata": {
  "interpreter": {
   "hash": "7a895bd21b1a1d2731361ff59fc708282165d760aa0414dacdfeb3d2c9f175cf"
  },
  "kernelspec": {
   "display_name": "Python 3 (ipykernel)",
   "language": "python",
   "name": "python3"
  },
  "language_info": {
   "codemirror_mode": {
    "name": "ipython",
    "version": 3
   },
   "file_extension": ".py",
   "mimetype": "text/x-python",
   "name": "python",
   "nbconvert_exporter": "python",
   "pygments_lexer": "ipython3",
   "version": "3.9.7"
  }
 },
 "nbformat": 4,
 "nbformat_minor": 2
}
