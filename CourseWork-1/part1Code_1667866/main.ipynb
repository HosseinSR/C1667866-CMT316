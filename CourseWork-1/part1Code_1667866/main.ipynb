{
 "cells": [
  {
   "cell_type": "markdown",
   "metadata": {},
   "source": [
    "#imports"
   ]
  },
  {
   "cell_type": "code",
   "execution_count": 1,
   "metadata": {},
   "outputs": [],
   "source": [
    "from pathlib import Path\n",
    "from urllib.parse import urlparse;\n",
    "import csv as csv\n",
    "import sklearn\n",
    "from sklearn import naive_bayes\n",
    "from sklearn.linear_model import LinearRegression, LogisticRegression\n",
    "from sklearn.pipeline import Pipeline\n",
    "from sklearn.kernel_ridge import KernelRidge\n",
    "from sklearn.metrics import mean_squared_error, classification_report, accuracy_score\n",
    "import pandas as pd\n",
    "import os\n",
    "import numpy as np\n"
   ]
  },
  {
   "cell_type": "markdown",
   "metadata": {},
   "source": [
    "#init vars"
   ]
  },
  {
   "cell_type": "code",
   "execution_count": 2,
   "metadata": {},
   "outputs": [],
   "source": [
    "cwd = os.getcwd()\n",
    "trainingDataframe = pd.read_csv(cwd + \"/train_full_Real-estate.csv\")\n",
    "testDataframe = pd.read_csv(cwd + \"/test_full_Real-estate.csv\")\n"
   ]
  },
  {
   "cell_type": "markdown",
   "metadata": {},
   "source": [
    "#regression "
   ]
  },
  {
   "cell_type": "code",
   "execution_count": 3,
   "metadata": {},
   "outputs": [],
   "source": [
    "regXTrain, regYTrain = trainingDataframe.iloc[:, :-1], trainingDataframe.iloc[:, -1]\n",
    "regXTest, regYTest = testDataframe.iloc[:, :-1], testDataframe.iloc[:, -1]"
   ]
  },
  {
   "cell_type": "code",
   "execution_count": 4,
   "metadata": {},
   "outputs": [
    {
     "name": "stdout",
     "output_type": "stream",
     "text": [
      "Root Mean Squared Error for linear regression classifier :  8.525909594044471\n"
     ]
    }
   ],
   "source": [
    "LRpipe = Pipeline([(\"model\" ,LinearRegression())])\n",
    "LRpipe.fit(regXTrain, regYTrain)\n",
    "lrRootMeanError = np.sqrt(sklearn.metrics.mean_squared_error(regYTest,LRpipe.predict(regXTest)))\n",
    "print(\"Root Mean Squared Error for linear regression classifier : \",lrRootMeanError)"
   ]
  },
  {
   "cell_type": "code",
   "execution_count": 5,
   "metadata": {},
   "outputs": [
    {
     "name": "stdout",
     "output_type": "stream",
     "text": [
      "Root Mean Squared Error for linear regression classifier :  8.95555108263691\n"
     ]
    }
   ],
   "source": [
    "KernelRidgepipe = Pipeline([(\"model\" ,KernelRidge())])\n",
    "KernelRidgepipe.fit(regXTrain, regYTrain)\n",
    "KernelRidgeRootMeanError = np.sqrt(sklearn.metrics.mean_squared_error(regYTest,KernelRidgepipe.predict(regXTest)))\n",
    "print(\"Root Mean Squared Error for linear regression classifier : \",KernelRidgeRootMeanError)"
   ]
  },
  {
   "cell_type": "markdown",
   "metadata": {},
   "source": [
    "#classification"
   ]
  },
  {
   "cell_type": "code",
   "execution_count": 6,
   "metadata": {},
   "outputs": [],
   "source": [
    "cTrainingDataframe = trainingDataframe\n",
    "cTestDataframe = testDataframe\n",
    "\n",
    "cTrainingDataframe['relativeExpensive'] = cTrainingDataframe['Y house price of unit area'].apply(lambda x: 1 if x >= 30 else 0)\n",
    "cTestDataframe['relativeExpensive'] = cTestDataframe['Y house price of unit area'].apply(lambda x: 1 if x >= 30 else 0)\n",
    "\n",
    "cXTrain, cYTrain = cTrainingDataframe.iloc[:, :-1], cTrainingDataframe.iloc[:, -1]\n",
    "cXTest, cYTest = cTestDataframe.iloc[:, :-1], cTestDataframe.iloc[:, -1]"
   ]
  },
  {
   "cell_type": "code",
   "execution_count": 7,
   "metadata": {},
   "outputs": [
    {
     "name": "stdout",
     "output_type": "stream",
     "text": [
      "accuracy:  0.8672566371681416\n",
      "              precision    recall  f1-score   support\n",
      "\n",
      "           0       0.81      0.74      0.78        35\n",
      "           1       0.89      0.92      0.91        78\n",
      "\n",
      "    accuracy                           0.87       113\n",
      "   macro avg       0.85      0.83      0.84       113\n",
      "weighted avg       0.87      0.87      0.87       113\n",
      "\n"
     ]
    }
   ],
   "source": [
    "nvPipe = Pipeline([(\"model\" ,naive_bayes.MultinomialNB())])\n",
    "nvPipe.fit(cXTrain,cYTrain )\n",
    "predict = nvPipe.predict(cXTest)\n",
    "print(\"accuracy: \",accuracy_score(predict,cYTest) )\n",
    "print(classification_report(predict,cYTest))"
   ]
  },
  {
   "cell_type": "code",
   "execution_count": 8,
   "metadata": {},
   "outputs": [
    {
     "name": "stdout",
     "output_type": "stream",
     "text": [
      "accuracy:  0.9734513274336283\n",
      "              precision    recall  f1-score   support\n",
      "\n",
      "           0       0.97      0.94      0.95        33\n",
      "           1       0.98      0.99      0.98        80\n",
      "\n",
      "    accuracy                           0.97       113\n",
      "   macro avg       0.97      0.96      0.97       113\n",
      "weighted avg       0.97      0.97      0.97       113\n",
      "\n"
     ]
    }
   ],
   "source": [
    "LrClaPipe = Pipeline([(\"model\" ,LogisticRegression())])\n",
    "LrClaPipe.fit(cXTrain,cYTrain )\n",
    "predict = LrClaPipe.predict(cXTest)\n",
    "print(\"accuracy: \",accuracy_score(predict,cYTest) )\n",
    "print(classification_report(predict,cYTest))"
   ]
  }
 ],
 "metadata": {
  "interpreter": {
   "hash": "7a895bd21b1a1d2731361ff59fc708282165d760aa0414dacdfeb3d2c9f175cf"
  },
  "kernelspec": {
   "display_name": "Python 3.9.7 ('base')",
   "language": "python",
   "name": "python3"
  },
  "language_info": {
   "codemirror_mode": {
    "name": "ipython",
    "version": 3
   },
   "file_extension": ".py",
   "mimetype": "text/x-python",
   "name": "python",
   "nbconvert_exporter": "python",
   "pygments_lexer": "ipython3",
   "version": "3.9.7"
  },
  "orig_nbformat": 4
 },
 "nbformat": 4,
 "nbformat_minor": 2
}
